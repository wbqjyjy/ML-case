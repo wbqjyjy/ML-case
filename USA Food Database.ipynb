{
 "cells": [
  {
   "cell_type": "code",
   "execution_count": 2,
   "metadata": {
    "collapsed": false
   },
   "outputs": [
    {
     "data": {
      "text/plain": [
       "dict_keys(['manufacturer', 'group', 'id', 'description', 'portions', 'nutrients', 'tags'])"
      ]
     },
     "execution_count": 2,
     "metadata": {},
     "output_type": "execute_result"
    }
   ],
   "source": [
    "#将json格式的数据转为dictionary\n",
    "import json\n",
    "db = json.load(open('F:/usda_food/database.json'))\n",
    "db[0].keys()"
   ]
  },
  {
   "cell_type": "code",
   "execution_count": 9,
   "metadata": {
    "collapsed": false
   },
   "outputs": [
    {
     "data": {
      "text/plain": [
       "[{'description': 'Protein',\n",
       "  'group': 'Composition',\n",
       "  'units': 'g',\n",
       "  'value': 25.18},\n",
       " {'description': 'Total lipid (fat)',\n",
       "  'group': 'Composition',\n",
       "  'units': 'g',\n",
       "  'value': 29.2},\n",
       " {'description': 'Carbohydrate, by difference',\n",
       "  'group': 'Composition',\n",
       "  'units': 'g',\n",
       "  'value': 3.06},\n",
       " {'description': 'Ash', 'group': 'Other', 'units': 'g', 'value': 3.28},\n",
       " {'description': 'Energy', 'group': 'Energy', 'units': 'kcal', 'value': 376.0}]"
      ]
     },
     "execution_count": 9,
     "metadata": {},
     "output_type": "execute_result"
    }
   ],
   "source": [
    "#查看nutrients的具体内容\n",
    "import pandas as pd\n",
    "db[0]['nutrients'][:5]#可以看出nutrients是一个dictionary列表"
   ]
  },
  {
   "cell_type": "code",
   "execution_count": 11,
   "metadata": {
    "collapsed": false
   },
   "outputs": [
    {
     "data": {
      "text/html": [
       "<div>\n",
       "<table border=\"1\" class=\"dataframe\">\n",
       "  <thead>\n",
       "    <tr style=\"text-align: right;\">\n",
       "      <th></th>\n",
       "      <th>description</th>\n",
       "      <th>group</th>\n",
       "      <th>units</th>\n",
       "      <th>value</th>\n",
       "      <th>id</th>\n",
       "    </tr>\n",
       "  </thead>\n",
       "  <tbody>\n",
       "    <tr>\n",
       "      <th>0</th>\n",
       "      <td>Protein</td>\n",
       "      <td>Composition</td>\n",
       "      <td>g</td>\n",
       "      <td>25.18</td>\n",
       "      <td>1008</td>\n",
       "    </tr>\n",
       "    <tr>\n",
       "      <th>1</th>\n",
       "      <td>Total lipid (fat)</td>\n",
       "      <td>Composition</td>\n",
       "      <td>g</td>\n",
       "      <td>29.20</td>\n",
       "      <td>1008</td>\n",
       "    </tr>\n",
       "    <tr>\n",
       "      <th>2</th>\n",
       "      <td>Carbohydrate, by difference</td>\n",
       "      <td>Composition</td>\n",
       "      <td>g</td>\n",
       "      <td>3.06</td>\n",
       "      <td>1008</td>\n",
       "    </tr>\n",
       "    <tr>\n",
       "      <th>3</th>\n",
       "      <td>Ash</td>\n",
       "      <td>Other</td>\n",
       "      <td>g</td>\n",
       "      <td>3.28</td>\n",
       "      <td>1008</td>\n",
       "    </tr>\n",
       "    <tr>\n",
       "      <th>4</th>\n",
       "      <td>Energy</td>\n",
       "      <td>Energy</td>\n",
       "      <td>kcal</td>\n",
       "      <td>376.00</td>\n",
       "      <td>1008</td>\n",
       "    </tr>\n",
       "  </tbody>\n",
       "</table>\n",
       "</div>"
      ],
      "text/plain": [
       "                   description        group units   value    id\n",
       "0                      Protein  Composition     g   25.18  1008\n",
       "1            Total lipid (fat)  Composition     g   29.20  1008\n",
       "2  Carbohydrate, by difference  Composition     g    3.06  1008\n",
       "3                          Ash        Other     g    3.28  1008\n",
       "4                       Energy       Energy  kcal  376.00  1008"
      ]
     },
     "execution_count": 11,
     "metadata": {},
     "output_type": "execute_result"
    }
   ],
   "source": [
    "#将nutrients转化为dataframe\n",
    "pieces = []\n",
    "for i in range(len(db)):\n",
    "    frame = pd.DataFrame(db[i]['nutrients'])\n",
    "    frame['id'] = db[i]['id']\n",
    "    pieces.append(frame)\n",
    "nutrients = pd.concat(pieces,axis=0)\n",
    "nutrients[:5]"
   ]
  },
  {
   "cell_type": "code",
   "execution_count": 17,
   "metadata": {
    "collapsed": false
   },
   "outputs": [
    {
     "name": "stdout",
     "output_type": "stream",
     "text": [
      "<class 'pandas.core.frame.DataFrame'>\n",
      "RangeIndex: 6636 entries, 0 to 6635\n",
      "Data columns (total 4 columns):\n",
      "description     6636 non-null object\n",
      "group           6636 non-null object\n",
      "id              6636 non-null int64\n",
      "manufacturer    5195 non-null object\n",
      "dtypes: int64(1), object(3)\n",
      "memory usage: 207.5+ KB\n"
     ]
    }
   ],
   "source": [
    "#将db中的一些信息提取出来构成dataframe info\n",
    "info_keys = ['description','group','id','manufacturer']\n",
    "info = pd.DataFrame(db,columns=info_keys)\n",
    "info.info()"
   ]
  },
  {
   "cell_type": "code",
   "execution_count": 14,
   "metadata": {
    "collapsed": false
   },
   "outputs": [
    {
     "data": {
      "text/plain": [
       "Vegetables and Vegetable Products    812\n",
       "Beef Products                        618\n",
       "Baked Products                       496\n",
       "Breakfast Cereals                    403\n",
       "Legumes and Legume Products          365\n",
       "Name: group, dtype: int64"
      ]
     },
     "execution_count": 14,
     "metadata": {},
     "output_type": "execute_result"
    }
   ],
   "source": [
    "info.group.value_counts()[:5]"
   ]
  },
  {
   "cell_type": "code",
   "execution_count": 18,
   "metadata": {
    "collapsed": false
   },
   "outputs": [
    {
     "name": "stdout",
     "output_type": "stream",
     "text": [
      "<class 'pandas.core.frame.DataFrame'>\n",
      "Int64Index: 389355 entries, 0 to 389354\n",
      "Data columns (total 8 columns):\n",
      "food            389355 non-null object\n",
      "fgroup          389355 non-null object\n",
      "id              389355 non-null int64\n",
      "manufacturer    305162 non-null object\n",
      "nutrient        389355 non-null object\n",
      "nutgroup        389355 non-null object\n",
      "units           389355 non-null object\n",
      "value           389355 non-null float64\n",
      "dtypes: float64(1), int64(1), object(6)\n",
      "memory usage: 26.7+ MB\n"
     ]
    }
   ],
   "source": [
    "#将info，nutrients通过idmerge\n",
    "#首先将overlapping的column分别重新命名\n",
    "col_mapping={'description':'food','group':'fgroup'}\n",
    "info_rename = info.rename(columns=col_mapping,copy=False)\n",
    "col_mapping={'description':'nutrient','group':'nutgroup'}\n",
    "nutrients_rename = nutrients.rename(columns=col_mapping,copy=False)\n",
    "#融合二者by id\n",
    "ndata = pd.merge(info_rename,nutrients_rename,on='id',how='outer')\n",
    "ndata.info()"
   ]
  },
  {
   "cell_type": "code",
   "execution_count": 36,
   "metadata": {
    "collapsed": false
   },
   "outputs": [
    {
     "data": {
      "image/png": "[encoded data removed]",
      "text/plain": [
       "<Figure size 432x288 with 1 Axes>"
      ]
     },
     "metadata": {},
     "output_type": "display_data"
    }
   ],
   "source": [
    "#针对上述ndata进行数据分析\n",
    "#计算各类food下nutrient的各个组分的mean\n",
    "import matplotlib.pyplot as plt\n",
    "result = ndata.groupby(['fgroup','nutrient'])['value'].quantile(0.5)\n",
    "#计算nutrient ‘Zinc, Zn’，在各个food中的含量\n",
    "result[:,'Zinc, Zn'].sort_values().plot(kind='barh')#注意书中书写错误，result为double-index series,要抽取某一值result['key1','key2']\n",
    "#要抽取level1的某一个key值：result['key1'],要抽取Level2的某一个key值：result[:,'key2']\n",
    "plt.show()"
   ]
  },
  {
   "cell_type": "code",
   "execution_count": 43,
   "metadata": {
    "collapsed": false
   },
   "outputs": [
    {
     "data": {
      "text/plain": [
       "nutrient\n",
       "Alanine                           Gelatins, dry powder, unsweetened\n",
       "Arginine                               Seeds, sesame flour, low-fat\n",
       "Aspartic acid                                   Soy protein isolate\n",
       "Cystine                Seeds, cottonseed flour, low fat (glandless)\n",
       "Glutamic acid                                   Soy protein isolate\n",
       "Glycine                           Gelatins, dry powder, unsweetened\n",
       "Histidine                Whale, beluga, meat, dried (Alaska Native)\n",
       "Hydroxyproline    KENTUCKY FRIED CHICKEN, Fried Chicken, ORIGINA...\n",
       "Isoleucine        Soy protein isolate, PROTEIN TECHNOLOGIES INTE...\n",
       "Leucine           Soy protein isolate, PROTEIN TECHNOLOGIES INTE...\n",
       "Lysine            Seal, bearded (Oogruk), meat, dried (Alaska Na...\n",
       "Methionine                    Fish, cod, Atlantic, dried and salted\n",
       "Phenylalanine     Soy protein isolate, PROTEIN TECHNOLOGIES INTE...\n",
       "Proline                           Gelatins, dry powder, unsweetened\n",
       "Serine            Soy protein isolate, PROTEIN TECHNOLOGIES INTE...\n",
       "Threonine         Soy protein isolate, PROTEIN TECHNOLOGIES INTE...\n",
       "Tryptophan         Sea lion, Steller, meat with fat (Alaska Native)\n",
       "Tyrosine          Soy protein isolate, PROTEIN TECHNOLOGIES INTE...\n",
       "Valine            Soy protein isolate, PROTEIN TECHNOLOGIES INTE...\n",
       "Name: food, dtype: object"
      ]
     },
     "execution_count": 43,
     "metadata": {},
     "output_type": "execute_result"
    }
   ],
   "source": [
    "#对于不同类型的nutrient，那种food的含量最高\n",
    "by_nutrient = ndata.groupby(['nutgroup','nutrient'])\n",
    "get_maximum = lambda x:x.loc[x.value.idxmax()]#这里用iloc会报错\n",
    "get_minimum = lambda x:x.loc[x.value.idxmin()]\n",
    "max_food = by_nutrient.apply(get_maximum)[['value','food']]\n",
    "max_food.food = max_food.food.str[:50]\n",
    "max_food.loc['Amino Acids']['food']#index为Amino Acids的food column; #Amino Acids类下各个nutrients含量最高的food名称"
   ]
  }
 ],
 "metadata": {
  "kernelspec": {
   "display_name": "Python [default]",
   "language": "python",
   "name": "python3"
  },
  "language_info": {
   "codemirror_mode": {
    "name": "ipython",
    "version": 3
   },
   "file_extension": ".py",
   "mimetype": "text/x-python",
   "name": "python",
   "nbconvert_exporter": "python",
   "pygments_lexer": "ipython3",
   "version": "3.5.2"
  }
 },
 "nbformat": 4,
 "nbformat_minor": 1
}
