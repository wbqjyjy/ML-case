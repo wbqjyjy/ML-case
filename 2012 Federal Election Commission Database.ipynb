{
 "cells": [
  {
   "cell_type": "code",
   "execution_count": 2,
   "metadata": {
    "collapsed": false
   },
   "outputs": [
    {
     "name": "stderr",
     "output_type": "stream",
     "text": [
      "C:\\Users\\Administrator\\Anaconda3\\lib\\site-packages\\IPython\\core\\interactiveshell.py:2717: DtypeWarning: Columns (6) have mixed types. Specify dtype option on import or set low_memory=False.\n",
      "  interactivity=interactivity, compiler=compiler, result=result)\n"
     ]
    },
    {
     "name": "stdout",
     "output_type": "stream",
     "text": [
      "<class 'pandas.core.frame.DataFrame'>\n",
      "RangeIndex: 1001731 entries, 0 to 1001730\n",
      "Data columns (total 16 columns):\n",
      "cmte_id              1001731 non-null object\n",
      "cand_id              1001731 non-null object\n",
      "cand_nm              1001731 non-null object\n",
      "contbr_nm            1001731 non-null object\n",
      "contbr_city          1001712 non-null object\n",
      "contbr_st            1001727 non-null object\n",
      "contbr_zip           1001620 non-null object\n",
      "contbr_employer      988002 non-null object\n",
      "contbr_occupation    993301 non-null object\n",
      "contb_receipt_amt    1001731 non-null float64\n",
      "contb_receipt_dt     1001731 non-null object\n",
      "receipt_desc         14166 non-null object\n",
      "memo_cd              92482 non-null object\n",
      "memo_text            97770 non-null object\n",
      "form_tp              1001731 non-null object\n",
      "file_num             1001731 non-null int64\n",
      "dtypes: float64(1), int64(1), object(14)\n",
      "memory usage: 122.3+ MB\n"
     ]
    }
   ],
   "source": [
    "#首先，将数据以dataframe的形式导入python\n",
    "import pandas as pd\n",
    "import matplotlib.pyplot as plt\n",
    "import seaborn as sns\n",
    "import numpy as np\n",
    "fec = pd.read_csv('F:/fec/P00000001-All.csv')\n",
    "fec.info()"
   ]
  },
  {
   "cell_type": "code",
   "execution_count": 5,
   "metadata": {
    "collapsed": false
   },
   "outputs": [
    {
     "data": {
      "text/plain": [
       "array(['Bachmann, Michelle', 'Romney, Mitt', 'Obama, Barack',\n",
       "       \"Roemer, Charles E. 'Buddy' III\", 'Pawlenty, Timothy',\n",
       "       'Johnson, Gary Earl', 'Paul, Ron', 'Santorum, Rick', 'Cain, Herman',\n",
       "       'Gingrich, Newt', 'McCotter, Thaddeus G', 'Huntsman, Jon',\n",
       "       'Perry, Rick'], dtype=object)"
      ]
     },
     "execution_count": 5,
     "metadata": {},
     "output_type": "execute_result"
    }
   ],
   "source": [
    "#首先以occupation和employer为着力点，分析数据\n",
    "unique_cands = fec.cand_nm.unique() #首先明确候选人名单; series.unique()以array形式，返回unique_value；\n",
    "unique_cands"
   ]
  },
  {
   "cell_type": "code",
   "execution_count": 7,
   "metadata": {
    "collapsed": false
   },
   "outputs": [
    {
     "data": {
      "text/plain": [
       "Democrat      593746\n",
       "Republican    403430\n",
       "Name: party, dtype: int64"
      ]
     },
     "execution_count": 7,
     "metadata": {},
     "output_type": "execute_result"
    }
   ],
   "source": [
    "#将每个候选人所依附的党派信息加入fec dataframe\n",
    "#以Mapping的形式处理\n",
    "parties = {'Bachmann, Michelle':'Republican',\n",
    "          'Cain, Herman':'Republican',\n",
    "          'Gingrich, Newt':'Republican',\n",
    "          'Huntsman, Jon':'Republican',\n",
    "          'Johnson, Gary Earl':'Republican',\n",
    "          'McCotter, Thaddeus G':'Republican',\n",
    "          'Obama, Barack':'Democrat',\n",
    "          'Paul, Ron':'Republican',\n",
    "          'Perry, Rick':'Republican',\n",
    "          \"Roemer, Charles E. 'Buddy' III\":'Republican',\n",
    "          'Romney, Mitt':'Republican',\n",
    "          'Santorum, Rick':'Republican',\n",
    "          }\n",
    "fec['party'] = fec.cand_nm.map(parties)\n",
    "fec.party.value_counts() #计算各个党派在election中的人数"
   ]
  },
  {
   "cell_type": "code",
   "execution_count": 10,
   "metadata": {
    "collapsed": false
   },
   "outputs": [
    {
     "name": "stdout",
     "output_type": "stream",
     "text": [
      "True     991475\n",
      "False     10256\n",
      "Name: contb_receipt_amt, dtype: int64\n"
     ]
    }
   ],
   "source": [
    "#接下来，我们研究在这场精选中，贡献经费的情况，这里，不对撤资情况进行研究（即；贡献经费为负值）\n",
    "#首先了解一下fund和refund在这场election中的数量\n",
    "print((fec.contb_receipt_amt > 0).value_counts())\n",
    "#将研究数据缩小为fund\n",
    "fec_fund = fec[fec.contb_receipt_amt>0]\n",
    "#由于OBamma和Mitt是两个主要的候选人，这里单另提取他们两个的数据,\n",
    "fec_mrbo = fec[fec.cand_nm.isin(['Obama, Barack','Romney, Mitt'])]"
   ]
  },
  {
   "cell_type": "code",
   "execution_count": 13,
   "metadata": {
    "collapsed": false
   },
   "outputs": [
    {
     "data": {
      "text/plain": [
       "RETIRED                  233990\n",
       "INFORMATION REQUESTED     35107\n",
       "ATTORNEY                  34286\n",
       "HOMEMAKER                 29931\n",
       "PHYSICIAN                 23432\n",
       "Name: contbr_occupation, dtype: int64"
      ]
     },
     "execution_count": 13,
     "metadata": {},
     "output_type": "execute_result"
    }
   ],
   "source": [
    "#分析每种occupation和employer的捐赠情况\n",
    "#首先看一下不同的occupation的捐赠人数\n",
    "fec_fund.contbr_occupation.value_counts()[:5]"
   ]
  },
  {
   "cell_type": "code",
   "execution_count": 33,
   "metadata": {
    "collapsed": false
   },
   "outputs": [
    {
     "name": "stderr",
     "output_type": "stream",
     "text": [
      "C:\\Users\\Administrator\\Anaconda3\\lib\\site-packages\\pandas\\core\\generic.py:2701: SettingWithCopyWarning: \n",
      "A value is trying to be set on a copy of a slice from a DataFrame.\n",
      "Try using .loc[row_indexer,col_indexer] = value instead\n",
      "\n",
      "See the caveats in the documentation: http://pandas.pydata.org/pandas-docs/stable/indexing.html#indexing-view-versus-copy\n",
      "  self[name] = value\n"
     ]
    },
    {
     "data": {
      "image/png": "[encoded data removed]",
      "text/plain": [
       "<Figure size 432x288 with 1 Axes>"
      ]
     },
     "metadata": {},
     "output_type": "display_data"
    }
   ],
   "source": [
    "#由于occupation中一个职业有多种表达，或者一些表达没有实际意义，下面通过mapping，对occupation中的这些情况进行修正，使得同一种职业只有一种表达，\n",
    "#或者，没有实际意义的occupation name用一些特定字符表示\n",
    "occ_mapping = {'INFORMATION REQUESTED PER BEST EFFORTS':'NOT PROVIDED',\n",
    "              'INFORMATION REQUESTED':'NOT PROVIDED',\n",
    "              'INFORMATION REQUESTED (BEST EFFORTS)':'NOT PROVIDED',\n",
    "              'C.E.O':'CEO'\n",
    "              }\n",
    "func = lambda x:occ_mapping.get(x,x)\n",
    "fec_fund.contbr_occupation = fec_fund.contbr_occupation.map(func)\n",
    "\n",
    "#对employer column也进行同样的处理\n",
    "emp_mapping = {\n",
    "    'INFORMATION REQUESTED PER BEST EFFORTS':'NOT PROVIDED',\n",
    "    'INFORMATION REQUESTED':'NOT PROVIDED',\n",
    "    'SELF':'SELF-EMPLOYED',\n",
    "    'SELF EMPLOYED':'SELF-EMPLOYED'\n",
    "}\n",
    "func = lambda x:emp_mapping.get(x,x) #dictionary.get(x,default):如果x在dictionary中，返回其value，否则，返回default\n",
    "fec_fund.contbr_employer = fec_fund.contbr_employer.map(func)\n",
    "\n",
    "#处理好employer和occupation数据后，接下来，我们可以分析一下不同的occupation中republic和democrat各捐赠多少\n",
    "by_occupation = fec_fund.pivot_table('contb_receipt_amt',index='contbr_occupation',columns='party',aggfunc='sum')\n",
    "over_2mm = by_occupation[by_occupation.sum(1) > 2000000]\n",
    "over_2mm.plot(kind='barh')\n",
    "plt.show()"
   ]
  },
  {
   "cell_type": "code",
   "execution_count": 34,
   "metadata": {
    "collapsed": false
   },
   "outputs": [
    {
     "data": {
      "text/plain": [
       "cand_nm        contbr_occupation                     \n",
       "Obama, Barack  RETIRED                                   25270507.23\n",
       "               ATTORNEY                                  11126932.97\n",
       "               INFORMATION REQUESTED                      4849801.96\n",
       "               HOMEMAKER                                  4243394.30\n",
       "               PHYSICIAN                                  3732387.44\n",
       "Romney, Mitt   RETIRED                                   11266949.23\n",
       "               INFORMATION REQUESTED PER BEST EFFORTS    11173374.84\n",
       "               HOMEMAKER                                  8037250.86\n",
       "               ATTORNEY                                   5302578.82\n",
       "               PRESIDENT                                  2403439.77\n",
       "Name: contb_receipt_amt, dtype: float64"
      ]
     },
     "execution_count": 34,
     "metadata": {},
     "output_type": "execute_result"
    }
   ],
   "source": [
    "#给OBamma和Remnoy捐赠最多的occupation和company\n",
    "#给两个candidate捐赠最多的职业top5\n",
    "def get_top_amounts(group,key,n=5):\n",
    "    totals = group.groupby(key).contb_receipt_amt.sum()\n",
    "    return totals.nlargest(n)\n",
    "grouped = fec_mrbo.groupby('cand_nm')\n",
    "grouped.apply(get_top_amounts,'contbr_occupation',5) #返回应用函数的结果"
   ]
  },
  {
   "cell_type": "code",
   "execution_count": 35,
   "metadata": {
    "collapsed": false
   },
   "outputs": [
    {
     "data": {
      "text/plain": [
       "cand_nm        contbr_employer                       \n",
       "Obama, Barack  RETIRED                                   22665902.20\n",
       "               SELF-EMPLOYED                             17038455.96\n",
       "               NOT EMPLOYED                               8584118.70\n",
       "               INFORMATION REQUESTED                      5036178.37\n",
       "               HOMEMAKER                                  2599987.04\n",
       "Romney, Mitt   INFORMATION REQUESTED PER BEST EFFORTS    11827237.12\n",
       "               RETIRED                                   11264701.35\n",
       "               HOMEMAKER                                  8037000.86\n",
       "               SELF-EMPLOYED                              7260882.29\n",
       "               STUDENT                                     488642.82\n",
       "Name: contb_receipt_amt, dtype: float64"
      ]
     },
     "execution_count": 35,
     "metadata": {},
     "output_type": "execute_result"
    }
   ],
   "source": [
    "#给出给两个候选人捐赠最多的employer\n",
    "grouped.apply(get_top_amounts,'contbr_employer',5)"
   ]
  },
  {
   "cell_type": "code",
   "execution_count": 39,
   "metadata": {
    "collapsed": false
   },
   "outputs": [
    {
     "data": {
      "text/plain": [
       "411      (10, 100]\n",
       "412    (100, 1000]\n",
       "413    (100, 1000]\n",
       "414      (10, 100]\n",
       "415      (10, 100]\n",
       "Name: contb_receipt_amt, dtype: category\n",
       "Categories (7, object): [(1, 10] < (10, 100] < (100, 1000] < (1000, 10000] < (10000, 100000] < (100000, 1000000] < (1000000, 10000000]]"
      ]
     },
     "execution_count": 39,
     "metadata": {},
     "output_type": "execute_result"
    }
   ],
   "source": [
    "#根据捐赠金额的多少将两位候选人的数据进行分割\n",
    "import numpy as np\n",
    "bins = np.array([1,10,100,1000,10000,100000,1000000,10000000])\n",
    "labels = pd.cut(fec_mrbo.contb_receipt_amt,bins)\n",
    "labels.head()"
   ]
  },
  {
   "cell_type": "code",
   "execution_count": 44,
   "metadata": {
    "collapsed": false
   },
   "outputs": [
    {
     "data": {
      "text/html": [
       "<div>\n",
       "<table border=\"1\" class=\"dataframe\">\n",
       "  <thead>\n",
       "    <tr style=\"text-align: right;\">\n",
       "      <th>cand_nm</th>\n",
       "      <th>Obama, Barack</th>\n",
       "      <th>Romney, Mitt</th>\n",
       "    </tr>\n",
       "    <tr>\n",
       "      <th>contb_receipt_amt</th>\n",
       "      <th></th>\n",
       "      <th></th>\n",
       "    </tr>\n",
       "  </thead>\n",
       "  <tbody>\n",
       "    <tr>\n",
       "      <th>(1, 10]</th>\n",
       "      <td>40070.0</td>\n",
       "      <td>3681.0</td>\n",
       "    </tr>\n",
       "    <tr>\n",
       "      <th>(10, 100]</th>\n",
       "      <td>372280.0</td>\n",
       "      <td>31853.0</td>\n",
       "    </tr>\n",
       "    <tr>\n",
       "      <th>(100, 1000]</th>\n",
       "      <td>153991.0</td>\n",
       "      <td>43357.0</td>\n",
       "    </tr>\n",
       "    <tr>\n",
       "      <th>(1000, 10000]</th>\n",
       "      <td>22284.0</td>\n",
       "      <td>26186.0</td>\n",
       "    </tr>\n",
       "    <tr>\n",
       "      <th>(10000, 100000]</th>\n",
       "      <td>2.0</td>\n",
       "      <td>1.0</td>\n",
       "    </tr>\n",
       "    <tr>\n",
       "      <th>(100000, 1000000]</th>\n",
       "      <td>3.0</td>\n",
       "      <td>NaN</td>\n",
       "    </tr>\n",
       "    <tr>\n",
       "      <th>(1000000, 10000000]</th>\n",
       "      <td>4.0</td>\n",
       "      <td>NaN</td>\n",
       "    </tr>\n",
       "  </tbody>\n",
       "</table>\n",
       "</div>"
      ],
      "text/plain": [
       "cand_nm              Obama, Barack  Romney, Mitt\n",
       "contb_receipt_amt                               \n",
       "(1, 10]                    40070.0        3681.0\n",
       "(10, 100]                 372280.0       31853.0\n",
       "(100, 1000]               153991.0       43357.0\n",
       "(1000, 10000]              22284.0       26186.0\n",
       "(10000, 100000]                2.0           1.0\n",
       "(100000, 1000000]              3.0           NaN\n",
       "(1000000, 10000000]            4.0           NaN"
      ]
     },
     "execution_count": 44,
     "metadata": {},
     "output_type": "execute_result"
    }
   ],
   "source": [
    "#查看各个金额区间，给两位候选人捐赠的人数的多少\n",
    "grouped = fec_mrbo.groupby(['cand_nm',labels])\n",
    "grouped.size().unstack(0)"
   ]
  },
  {
   "cell_type": "code",
   "execution_count": 47,
   "metadata": {
    "collapsed": false
   },
   "outputs": [
    {
     "data": {
      "image/png": "[encoded data removed]",
      "text/plain": [
       "<Figure size 432x288 with 1 Axes>"
      ]
     },
     "metadata": {},
     "output_type": "display_data"
    }
   ],
   "source": [
    "#求两位候选人在各个区间获得的支持百分比\n",
    "bucket_sum = grouped.size().unstack(0).sum(1)\n",
    "normed_sum = grouped.size().unstack(0).div(grouped.size().unstack(0).sum(1),axis=0)\n",
    "normed_sum[:-2].plot(kind='barh')\n",
    "plt.show()"
   ]
  },
  {
   "cell_type": "code",
   "execution_count": 55,
   "metadata": {
    "collapsed": false
   },
   "outputs": [
    {
     "name": "stdout",
     "output_type": "stream",
     "text": [
      "cand_nm    Obama, Barack  Romney, Mitt\n",
      "contbr_st                             \n",
      "AA                  78.0           2.0\n",
      "AB                   4.0           0.0\n",
      "AE                 395.0          16.0\n",
      "cand_nm    Obama, Barack  Romney, Mitt\n",
      "contbr_st                             \n",
      "CA              101013.0       13595.0\n",
      "cand_nm    Obama, Barack  Romney, Mitt\n",
      "contbr_st                             \n",
      "AA              0.975000      0.025000\n",
      "AB              1.000000      0.000000\n",
      "AE              0.961071      0.038929\n"
     ]
    }
   ],
   "source": [
    "#求各国给两位候选人的捐赠情况\n",
    "totals = fec_mrbo.groupby(['cand_nm','contbr_st']).size().unstack(0).fillna(0)\n",
    "print(totals.head(3))\n",
    "#求捐赠总额>100000的国家\n",
    "totals_100000 = totals[totals.sum(1)>100000]\n",
    "print(totals_100000)\n",
    "#求两位候选人获得各国金额的百分比\n",
    "percent = totals.div(totals.sum(1),axis=0)\n",
    "print(percent.head(3))\n",
    "                                                                            "
   ]
  }
 ],
 "metadata": {
  "anaconda-cloud": {},
  "kernelspec": {
   "display_name": "Python [default]",
   "language": "python",
   "name": "python3"
  },
  "language_info": {
   "codemirror_mode": {
    "name": "ipython",
    "version": 3
   },
   "file_extension": ".py",
   "mimetype": "text/x-python",
   "name": "python",
   "nbconvert_exporter": "python",
   "pygments_lexer": "ipython3",
   "version": "3.5.2"
  }
 },
 "nbformat": 4,
 "nbformat_minor": 1
}
