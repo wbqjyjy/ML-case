{
 "cells": [
  {
   "cell_type": "code",
   "execution_count": 1,
   "metadata": {
    "collapsed": true
   },
   "outputs": [],
   "source": [
    "#USA.gov Data from Bitly"
   ]
  },
  {
   "cell_type": "code",
   "execution_count": 2,
   "metadata": {
    "collapsed": false
   },
   "outputs": [],
   "source": [
    "#首先查看一下data的样子\n",
    "path='F:/example.txt'"
   ]
  },
  {
   "cell_type": "code",
   "execution_count": 3,
   "metadata": {
    "collapsed": false
   },
   "outputs": [
    {
     "data": {
      "text/plain": [
       "{'a': 'Mozilla/5.0 (Windows NT 6.1; WOW64) AppleWebKit/535.11 (KHTML, like Gecko) Chrome/17.0.963.78 Safari/535.11',\n",
       " 'al': 'en-US,en;q=0.8',\n",
       " 'c': 'US',\n",
       " 'cy': 'Danvers',\n",
       " 'g': 'A6qOVH',\n",
       " 'gr': 'MA',\n",
       " 'h': 'wfLQtf',\n",
       " 'hc': 1331822918,\n",
       " 'hh': '1.usa.gov',\n",
       " 'l': 'orofrog',\n",
       " 'll': [42.576698, -70.954903],\n",
       " 'nk': 1,\n",
       " 'r': 'http://www.facebook.com/l/7AQEFzjSi/1.usa.gov/wfLQtf',\n",
       " 't': 1331923247,\n",
       " 'tz': 'America/New_York',\n",
       " 'u': 'http://www.ncbi.nlm.nih.gov/pubmed/22415991'}"
      ]
     },
     "execution_count": 3,
     "metadata": {},
     "output_type": "execute_result"
    }
   ],
   "source": [
    "#将data的形式转为list\n",
    "import json\n",
    "with open(path,'r') as f:\n",
    "    records = [json.loads(line) for line in f.readlines()] #json.loads()解码json string格式文件为python dictionary\n",
    "records[0] #查看数据的样子"
   ]
  },
  {
   "cell_type": "code",
   "execution_count": 4,
   "metadata": {
    "collapsed": false
   },
   "outputs": [
    {
     "name": "stdout",
     "output_type": "stream",
     "text": [
      "top_10: \n",
      " [('America/New_York', 1251), ('', 521), ('America/Chicago', 400), ('America/Los_Angeles', 382), ('America/Denver', 191), ('Europe/London', 74), ('Asia/Tokyo', 37), ('Pacific/Honolulu', 36), ('Europe/Madrid', 35), ('America/Sao_Paulo', 33)] \n",
      "\n"
     ]
    },
    {
     "data": {
      "text/plain": [
       "[(33, 'America/Sao_Paulo'),\n",
       " (35, 'Europe/Madrid'),\n",
       " (36, 'Pacific/Honolulu'),\n",
       " (37, 'Asia/Tokyo'),\n",
       " (74, 'Europe/London'),\n",
       " (191, 'America/Denver'),\n",
       " (382, 'America/Los_Angeles'),\n",
       " (400, 'America/Chicago'),\n",
       " (521, ''),\n",
       " (1251, 'America/New_York')]"
      ]
     },
     "execution_count": 4,
     "metadata": {},
     "output_type": "execute_result"
    }
   ],
   "source": [
    "#counting time zone in python\n",
    "#时区信息存储在column tz中\n",
    "time_zone = [rec['tz'] for rec in records if 'tz' in rec] \n",
    "#有些数据条中没有tz这一项，为了避免这个情况的发生，引入if\n",
    "#counting time_zone way1:\n",
    "def get_counts(sequence):\n",
    "    counts = {}\n",
    "    for x in sequence:\n",
    "        if x in counts:\n",
    "            counts[x] += 1\n",
    "        else:\n",
    "            counts[x] = 1\n",
    "    return counts\n",
    "\n",
    "#counting time_zone way 二：\n",
    "from collections import defaultdict\n",
    "def get_counts2(sequence):\n",
    "    counts = defaultdict(int)\n",
    "    for x in sequence:\n",
    "        counts[x] += 1\n",
    "    return counts\n",
    "    \n",
    "#counting time_zone way 三:\n",
    "from collections import Counter\n",
    "counts = Counter(time_zone)\n",
    "top_10 = counts.most_common(10) #Counter.most_common(n)\n",
    "\n",
    "#得到出现频次最高的前10个time_zone\n",
    "def get_top(my_dict,n=10):\n",
    "    my_list = [(count,v) for v,count in my_dict.items()]\n",
    "    new_list = sorted(my_list,key=lambda x:x[0],reverse=False)#注意list.sort()和built-in function sorted()的区别\n",
    "    return new_list[-10:]\n",
    "\n",
    "print('top_10:','\\n',top_10,'\\n')\n",
    "get_top(counts,10)"
   ]
  },
  {
   "cell_type": "code",
   "execution_count": 10,
   "metadata": {
    "collapsed": false,
    "scrolled": true
   },
   "outputs": [
    {
     "data": {
      "image/png": "[encoded data removed]",
      "text/plain": [
       "<Figure size 432x288 with 1 Axes>"
      ]
     },
     "metadata": {},
     "output_type": "display_data"
    }
   ],
   "source": [
    "#counting time_zone with pandas\n",
    "#前面counting time_zone中，自动把没有tz的数据条忽略了，在这个方法中，将没有tz或是tz=''的数据条进行必要的填充\n",
    "import pandas as pd\n",
    "import matplotlib.pyplot as plt\n",
    "frame = pd.DataFrame(records)\n",
    "clean_tz = frame['tz'].fillna('missing')#重新返回一个新series，而不改变旧的series；\n",
    "clean_tz[clean_tz=='']='unknown'\n",
    "tz_counts = clean_tz.value_counts()#返回series\n",
    "import seaborn as sns\n",
    "sns.barplot(x=tz_counts[:10].values,y=tz_counts[:10].index)\n",
    "plt.show()"
   ]
  },
  {
   "cell_type": "code",
   "execution_count": 11,
   "metadata": {
    "collapsed": false
   },
   "outputs": [
    {
     "data": {
      "text/plain": [
       "Mozilla/5.0               2594\n",
       "Mozilla/4.0                601\n",
       "GoogleMaps/RochesterNY     121\n",
       "Opera/9.80                  34\n",
       "TEST_INTERNET_AGENT         24\n",
       "dtype: int64"
      ]
     },
     "execution_count": 11,
     "metadata": {},
     "output_type": "execute_result"
    }
   ],
   "source": [
    "#获取Bitly中的一些detail information\n",
    "import pandas as pd\n",
    "results = pd.Series([x.split()[0] for x in frame.a.dropna()])\n",
    "results.value_counts()[:5] #series.value_counts()"
   ]
  },
  {
   "cell_type": "code",
   "execution_count": 43,
   "metadata": {
    "collapsed": false,
    "scrolled": true
   },
   "outputs": [
    {
     "name": "stdout",
     "output_type": "stream",
     "text": [
      "by_tz_os group size: \n",
      " tz                 os         \n",
      "                   Windows        276\n",
      "                   not Windows    245\n",
      "Africa/Cairo       Windows          3\n",
      "Africa/Casablanca  Windows          1\n",
      "dtype: int64\n"
     ]
    },
    {
     "name": "stderr",
     "output_type": "stream",
     "text": [
      "C:\\Users\\Administrator\\Anaconda3\\lib\\site-packages\\ipykernel\\__main__.py:4: SettingWithCopyWarning: \n",
      "A value is trying to be set on a copy of a slice from a DataFrame.\n",
      "Try using .loc[row_indexer,col_indexer] = value instead\n",
      "\n",
      "See the caveats in the documentation: http://pandas.pydata.org/pandas-docs/stable/indexing.html#indexing-view-versus-copy\n"
     ]
    },
    {
     "data": {
      "text/html": [
       "<div>\n",
       "<table border=\"1\" class=\"dataframe\">\n",
       "  <thead>\n",
       "    <tr style=\"text-align: right;\">\n",
       "      <th>os</th>\n",
       "      <th>Windows</th>\n",
       "      <th>not Windows</th>\n",
       "    </tr>\n",
       "    <tr>\n",
       "      <th>tz</th>\n",
       "      <th></th>\n",
       "      <th></th>\n",
       "    </tr>\n",
       "  </thead>\n",
       "  <tbody>\n",
       "    <tr>\n",
       "      <th>America/Sao_Paulo</th>\n",
       "      <td>20.0</td>\n",
       "      <td>13.0</td>\n",
       "    </tr>\n",
       "    <tr>\n",
       "      <th>Europe/Madrid</th>\n",
       "      <td>19.0</td>\n",
       "      <td>16.0</td>\n",
       "    </tr>\n",
       "    <tr>\n",
       "      <th>Pacific/Honolulu</th>\n",
       "      <td>36.0</td>\n",
       "      <td>0.0</td>\n",
       "    </tr>\n",
       "    <tr>\n",
       "      <th>Asia/Tokyo</th>\n",
       "      <td>35.0</td>\n",
       "      <td>2.0</td>\n",
       "    </tr>\n",
       "    <tr>\n",
       "      <th>Europe/London</th>\n",
       "      <td>31.0</td>\n",
       "      <td>43.0</td>\n",
       "    </tr>\n",
       "    <tr>\n",
       "      <th>America/Denver</th>\n",
       "      <td>59.0</td>\n",
       "      <td>132.0</td>\n",
       "    </tr>\n",
       "    <tr>\n",
       "      <th>America/Los_Angeles</th>\n",
       "      <td>252.0</td>\n",
       "      <td>130.0</td>\n",
       "    </tr>\n",
       "    <tr>\n",
       "      <th>America/Chicago</th>\n",
       "      <td>285.0</td>\n",
       "      <td>115.0</td>\n",
       "    </tr>\n",
       "    <tr>\n",
       "      <th></th>\n",
       "      <td>276.0</td>\n",
       "      <td>245.0</td>\n",
       "    </tr>\n",
       "    <tr>\n",
       "      <th>America/New_York</th>\n",
       "      <td>912.0</td>\n",
       "      <td>339.0</td>\n",
       "    </tr>\n",
       "  </tbody>\n",
       "</table>\n",
       "</div>"
      ],
      "text/plain": [
       "os                   Windows  not Windows\n",
       "tz                                       \n",
       "America/Sao_Paulo       20.0         13.0\n",
       "Europe/Madrid           19.0         16.0\n",
       "Pacific/Honolulu        36.0          0.0\n",
       "Asia/Tokyo              35.0          2.0\n",
       "Europe/London           31.0         43.0\n",
       "America/Denver          59.0        132.0\n",
       "America/Los_Angeles    252.0        130.0\n",
       "America/Chicago        285.0        115.0\n",
       "                       276.0        245.0\n",
       "America/New_York       912.0        339.0"
      ]
     },
     "execution_count": 43,
     "metadata": {},
     "output_type": "execute_result"
    }
   ],
   "source": [
    "#将用户数据分为windows,not windows\n",
    "import numpy as np\n",
    "cframe = frame[frame.a.notnull()]#将column-a中的非空数据取出\n",
    "cframe['os'] = np.where(cframe['a'].str.contains('Windows'),'Windows','not Windows')\n",
    "by_tz_os = cframe.groupby(['tz','os'])\n",
    "print('by_tz_os group size:','\\n',by_tz_os.size()[:4])\n",
    "agg_counts = by_tz_os.size().unstack().fillna(0)\n",
    "indexer = agg_counts.sum(1).argsort() #返回排序后的Index list\n",
    "#选取time_zone 频次top 10\n",
    "#way 一\n",
    "count_subset = agg_counts.take(indexer[-10:])\n",
    "count_subset"
   ]
  },
  {
   "cell_type": "code",
   "execution_count": 44,
   "metadata": {
    "collapsed": false,
    "scrolled": true
   },
   "outputs": [
    {
     "data": {
      "text/plain": [
       "tz\n",
       "America/New_York       1251.0\n",
       "                        521.0\n",
       "America/Chicago         400.0\n",
       "America/Los_Angeles     382.0\n",
       "America/Denver          191.0\n",
       "Europe/London            74.0\n",
       "Asia/Tokyo               37.0\n",
       "Pacific/Honolulu         36.0\n",
       "Europe/Madrid            35.0\n",
       "America/Sao_Paulo        33.0\n",
       "dtype: float64"
      ]
     },
     "execution_count": 44,
     "metadata": {},
     "output_type": "execute_result"
    }
   ],
   "source": [
    "#way 二\n",
    "agg_counts.sum(1).nlargest(10)"
   ]
  },
  {
   "cell_type": "code",
   "execution_count": 55,
   "metadata": {
    "collapsed": false,
    "scrolled": true
   },
   "outputs": [
    {
     "data": {
      "image/png": "[encoded data removed]",
      "text/plain": [
       "<Figure size 432x288 with 1 Axes>"
      ]
     },
     "metadata": {},
     "output_type": "display_data"
    }
   ],
   "source": [
    "import pandas as pd\n",
    "count_subset1 = count_subset.stack()\n",
    "count_subset2 = pd.DataFrame({'total':count_subset1}) \n",
    "count_subset3 = count_subset2.reset_index()\n",
    "import seaborn as sns\n",
    "import matplotlib.pyplot as plt\n",
    "sns.barplot(x=count_subset3.total,y=count_subset3.tz,hue=count_subset3.os)\n",
    "plt.show()\n",
    "#上述过程，对于每一个tz，各个os的百分比并没有normalized，下面介绍normalized plot"
   ]
  },
  {
   "cell_type": "code",
   "execution_count": 72,
   "metadata": {
    "collapsed": false
   },
   "outputs": [
    {
     "data": {
      "image/png": "[encoded data removed]",
      "text/plain": [
       "<Figure size 432x288 with 1 Axes>"
      ]
     },
     "metadata": {},
     "output_type": "display_data"
    }
   ],
   "source": [
    "#way 一\n",
    "import seaborn as sns\n",
    "import matplotlib.pyplot as plt\n",
    "def norm(group):#对数据进行组内normalized\n",
    "    group['norm'] = group.total/group.total.sum()\n",
    "    return group\n",
    "result = count_subset3.groupby('tz').apply(norm) #对group运用norm function;返回的是一个dataframe\n",
    "sns.barplot(x=result.norm,y=result.tz,hue=result.os)#绘图\n",
    "plt.show()"
   ]
  },
  {
   "cell_type": "code",
   "execution_count": 98,
   "metadata": {
    "collapsed": false
   },
   "outputs": [
    {
     "data": {
      "image/png": "[encoded data removed]",
      "text/plain": [
       "<Figure size 432x288 with 1 Axes>"
      ]
     },
     "metadata": {},
     "output_type": "display_data"
    }
   ],
   "source": [
    "#way 二\n",
    "import matplotlib.pyplot as plt\n",
    "import seaborn as sns\n",
    "count_subset3['norm'] = count_subset3.groupby('tz').transform(lambda x:x/x.sum())#返回的是一个series\n",
    "#体会apply()与transform()的区别\n",
    "sns.barplot(x=count_subset3.norm,y=count_subset3.tz,hue=count_subset3.os)\n",
    "plt.show()"
   ]
  }
 ],
 "metadata": {
  "anaconda-cloud": {},
  "kernelspec": {
   "display_name": "Python [default]",
   "language": "python",
   "name": "python3"
  }
 },
 "nbformat": 4,
 "nbformat_minor": 1
}
